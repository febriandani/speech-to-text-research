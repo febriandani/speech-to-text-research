{
 "cells": [
  {
   "cell_type": "code",
   "execution_count": 1,
   "id": "c4706309",
   "metadata": {
    "lines_to_next_cell": 1
   },
   "outputs": [],
   "source": [
    "import warnings\n",
    "import os\n",
    "from hmmlearn import hmm\n",
    "import numpy as np\n",
    "from librosa.feature import mfcc\n",
    "import librosa\n",
    "import random"
   ]
  },
  {
   "cell_type": "code",
   "execution_count": 2,
   "id": "44e2fa25",
   "metadata": {
    "lines_to_next_cell": 1
   },
   "outputs": [],
   "source": [
    "def buildDataSet(dir, rte):\n",
    "    # Filter out the wav audio files under the dir\n",
    "    fileList = [f for f in os.listdir(dir) if os.path.splitext(f)[1] == '.wav']\n",
    "    train_dataset = {}\n",
    "    test_dataset = {}\n",
    "    cnt = 1\n",
    "    # Calculate percent of each train and test\n",
    "    nm = int(rte * 50)\n",
    "    rnd = random.sample(range(0, 50), nm)\n",
    "\n",
    "    for fileName in fileList:\n",
    "        label = fileName.split('_')[0]\n",
    "        full_audio_path = os.path.join(dir, fileName)\n",
    "        feature = extract_mfcc(full_audio_path)\n",
    "        \n",
    "        if cnt in rnd:\n",
    "            if label not in test_dataset:\n",
    "                test_dataset[label] = []\n",
    "            test_dataset[label].append(feature)\n",
    "        else:\n",
    "            if label not in train_dataset:\n",
    "                train_dataset[label] = []\n",
    "            train_dataset[label].append(feature)\n",
    "        \n",
    "        if cnt == 50:\n",
    "            cnt = 1\n",
    "            rnd = random.sample(range(0, 50), 12)\n",
    "        else:\n",
    "            cnt += 1\n",
    "\n",
    "    return train_dataset, test_dataset"
   ]
  },
  {
   "cell_type": "code",
   "execution_count": 3,
   "id": "eb5ed8fe",
   "metadata": {
    "lines_to_next_cell": 1
   },
   "outputs": [],
   "source": [
    "def extract_mfcc(full_audio_path):\n",
    "    wave, sample_rate = librosa.load(full_audio_path)\n",
    "    mfcc_features = librosa.feature.mfcc(y=wave, sr=sample_rate)\n",
    "    return mfcc_features.T"
   ]
  },
  {
   "cell_type": "code",
   "execution_count": 4,
   "id": "683da622",
   "metadata": {
    "lines_to_next_cell": 1
   },
   "outputs": [],
   "source": [
    "### Gussian HMM\n",
    "def train_HMM(dataset):\n",
    "    Models = {}\n",
    "    for label in dataset.keys():\n",
    "        model = hmm.GMMHMM(n_components=10)\n",
    "        trainData = dataset[label]\n",
    "        trData = np.vstack(trainData)\n",
    "        model.fit(trData)\n",
    "        Models[label] = model\n",
    "    return Models"
   ]
  },
  {
   "cell_type": "code",
   "execution_count": 5,
   "id": "6e3f9e26",
   "metadata": {
    "lines_to_next_cell": 2
   },
   "outputs": [],
   "source": [
    "def main():\n",
    "    ### ignore warning message of readfile\n",
    "    warnings.filterwarnings('ignore')\n",
    "\n",
    "    ### Step.1 Loading data\n",
    "    trainDir = 'new_spoken_digit/'\n",
    "    print('Step.1 data loading...')\n",
    "    trainDataSet,testDataSet = buildDataSet(trainDir,rte=0.25)\n",
    "    print(\"Finish prepare the data\")\n",
    "\n",
    "\n",
    "    ### Step.2 Training\n",
    "    print('Step.2 Training model...')\n",
    "    hmmModels = train_HMM(trainDataSet)\n",
    "    print(\"Finish training of the GMM_HMM models for digits 0-9\")\n",
    "\n",
    "    ### Step.3 predict test data\n",
    "    acc_count = 0\n",
    "    all_data_count = 0\n",
    "    for label in testDataSet.keys():\n",
    "        feature = testDataSet[label]\n",
    "        for index in range(len(feature)):\n",
    "            all_data_count+=1\n",
    "            scoreList = {}\n",
    "            for model_label in hmmModels.keys():\n",
    "                model = hmmModels[model_label]\n",
    "                score = model.score(feature[index])\n",
    "                scoreList[model_label] = score\n",
    "            predict = max(scoreList, key=scoreList.get)\n",
    "            if predict == label:\n",
    "                acc_count+=1\n",
    "\n",
    "    accuracy = round(((acc_count/all_data_count)*100.0),3)\n",
    "\n",
    "    print(\"\\n##########################################################################\")\n",
    "    print(\"######################## A-C-C-U-R-A-C-Y #################################\")\n",
    "    print(\"########################    \",accuracy,\"%\",\"   #################################\")\n",
    "    print(\"##########################################################################\")"
   ]
  },
  {
   "cell_type": "code",
   "execution_count": 6,
   "id": "effd102c",
   "metadata": {},
   "outputs": [
    {
     "name": "stdout",
     "output_type": "stream",
     "text": [
      "Step.1 data loading...\n",
      "Finish prepare the data\n",
      "Step.2 Training model...\n"
     ]
    },
    {
     "name": "stderr",
     "output_type": "stream",
     "text": [
      "Degenerate mixture covariance\n",
      "Degenerate mixture covariance\n"
     ]
    },
    {
     "name": "stdout",
     "output_type": "stream",
     "text": [
      "Finish training of the GMM_HMM models for digits 0-9\n",
      "\n",
      "##########################################################################\n",
      "######################## A-C-C-U-R-A-C-Y #################################\n",
      "########################     100.0 %    #################################\n",
      "##########################################################################\n"
     ]
    }
   ],
   "source": [
    "if __name__ == '__main__':\n",
    "    main()"
   ]
  }
 ],
 "metadata": {
  "jupytext": {
   "cell_metadata_filter": "-all",
   "main_language": "python",
   "notebook_metadata_filter": "-all"
  },
  "kernelspec": {
   "display_name": "Python 3",
   "language": "python",
   "name": "python3"
  },
  "language_info": {
   "codemirror_mode": {
    "name": "ipython",
    "version": 3
   },
   "file_extension": ".py",
   "mimetype": "text/x-python",
   "name": "python",
   "nbconvert_exporter": "python",
   "pygments_lexer": "ipython3",
   "version": "3.11.4"
  }
 },
 "nbformat": 4,
 "nbformat_minor": 5
}
